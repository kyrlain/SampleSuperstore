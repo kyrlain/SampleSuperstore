{
 "metadata": {
  "kernelspec": {
   "display_name": "Streamlit Notebook",
   "name": "streamlit"
  },
  "lastEditStatus": {
   "notebookId": "e2rk27tqvfzcalfbzs6a",
   "authorId": "5531698932685",
   "authorName": "JVBU1997",
   "authorEmail": "jvbu1997@gmail.com",
   "sessionId": "ace94770-4067-4b38-a939-5e8db4cd0e98",
   "lastEditTime": 1745431570275
  }
 },
 "nbformat_minor": 5,
 "nbformat": 4,
 "cells": [
  {
   "cell_type": "code",
   "id": "3775908f-ca36-4846-8f38-5adca39217f2",
   "metadata": {
    "language": "python",
    "name": "cell1"
   },
   "source": "# Import python packages\nimport streamlit as st\nimport pandas as pd\n\n# We can also use Snowpark for our analyses!\nfrom snowflake.snowpark.context import get_active_session\nsession = get_active_session()\n",
   "execution_count": null,
   "outputs": []
  },
  {
   "cell_type": "code",
   "id": "65381f24-7ef9-41d0-9256-f36b99eee9bf",
   "metadata": {
    "language": "sql",
    "name": "cell4"
   },
   "outputs": [],
   "source": "SELECT *\nFROM SUPERSTORE_DB.PUBLIC.SUPERSTORE_SALES\nLIMIT 10",
   "execution_count": null
  },
  {
   "cell_type": "code",
   "id": "8d50cbf4-0c8d-4950-86cb-114990437ac9",
   "metadata": {
    "language": "sql",
    "name": "cell2",
    "codeCollapsed": false
   },
   "source": "SELECT \"Product Name\",\n    SUM(Sales) AS Total_Sales\nFROM SUPERSTORE_DB.PUBLIC.SUPERSTORE_SALES\nGROUP BY \"Product Name\"\nORDER BY Total_Sales DESC\nLIMIT 5;",
   "execution_count": null,
   "outputs": []
  },
  {
   "cell_type": "code",
   "id": "d02fc3d9-d1e6-4ca4-93df-a38b2927212f",
   "metadata": {
    "language": "sql",
    "name": "cell3"
   },
   "outputs": [],
   "source": "SELECT STATE,\n    SUM(Sales) AS Total_Sales\nFROM SUPERSTORE_DB.PUBLIC.SUPERSTORE_SALES\nGROUP BY STATE\nORDER BY Total_Sales DESC\nLIMIT 5;",
   "execution_count": null
  }
 ]
}